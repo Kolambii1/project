{
 "cells": [
  {
   "cell_type": "code",
   "execution_count": 1,
   "id": "446a6f64",
   "metadata": {},
   "outputs": [
    {
     "name": "stdout",
     "output_type": "stream",
     "text": [
      "Requirement already satisfied: python-telegram-bot in c:\\users\\dell\\anaconda\\lib\\site-packages (13.11)\n",
      "Requirement already satisfied: pytz>=2018.6 in c:\\users\\dell\\anaconda\\lib\\site-packages (from python-telegram-bot) (2021.3)\n",
      "Requirement already satisfied: APScheduler==3.6.3 in c:\\users\\dell\\anaconda\\lib\\site-packages (from python-telegram-bot) (3.6.3)\n",
      "Requirement already satisfied: cachetools==4.2.2 in c:\\users\\dell\\anaconda\\lib\\site-packages (from python-telegram-bot) (4.2.2)\n",
      "Requirement already satisfied: tornado>=6.1 in c:\\users\\dell\\anaconda\\lib\\site-packages (from python-telegram-bot) (6.1)\n",
      "Requirement already satisfied: certifi in c:\\users\\dell\\anaconda\\lib\\site-packages (from python-telegram-bot) (2021.10.8)\n",
      "Requirement already satisfied: setuptools>=0.7 in c:\\users\\dell\\anaconda\\lib\\site-packages (from APScheduler==3.6.3->python-telegram-bot) (61.2.0)\n",
      "Requirement already satisfied: tzlocal>=1.2 in c:\\users\\dell\\anaconda\\lib\\site-packages (from APScheduler==3.6.3->python-telegram-bot) (4.2)\n",
      "Requirement already satisfied: six>=1.4.0 in c:\\users\\dell\\anaconda\\lib\\site-packages (from APScheduler==3.6.3->python-telegram-bot) (1.16.0)\n",
      "Requirement already satisfied: tzdata in c:\\users\\dell\\anaconda\\lib\\site-packages (from tzlocal>=1.2->APScheduler==3.6.3->python-telegram-bot) (2022.1)\n",
      "Requirement already satisfied: pytz-deprecation-shim in c:\\users\\dell\\anaconda\\lib\\site-packages (from tzlocal>=1.2->APScheduler==3.6.3->python-telegram-bot) (0.1.0.post0)\n",
      "Note: you may need to restart the kernel to use updated packages.\n"
     ]
    }
   ],
   "source": [
    "pip install python-telegram-bot"
   ]
  },
  {
   "cell_type": "code",
   "execution_count": 2,
   "id": "04b9b8cf",
   "metadata": {},
   "outputs": [],
   "source": [
    "from telegram.ext.updater import Updater\n",
    "from telegram.update import Update\n",
    "from telegram.ext.callbackcontext import CallbackContext\n",
    "from telegram.ext.commandhandler import CommandHandler\n",
    "from telegram.ext.messagehandler import MessageHandler\n",
    "from telegram.ext.filters import Filters"
   ]
  },
  {
   "cell_type": "code",
   "execution_count": 3,
   "id": "b4c61776",
   "metadata": {},
   "outputs": [],
   "source": [
    "updater =  Updater(\"5369173927:AAHxF7tzZJ15lbtLNmgERPqCssmHij0FYv8\",use_context =True)"
   ]
  },
  {
   "cell_type": "code",
   "execution_count": 4,
   "id": "5943edc8",
   "metadata": {},
   "outputs": [],
   "source": [
    "def start(update: Update,context: CallbackContext):\n",
    "    update.message.reply_text(\n",
    "        \"Hello, This is Kolambii Narula,Welcome to the Bot write\\\n",
    "        /help to available the commands\")\n",
    "   "
   ]
  },
  {
   "cell_type": "code",
   "execution_count": 5,
   "id": "e3aacc64",
   "metadata": {},
   "outputs": [],
   "source": [
    "def help(update: Update, context: CallbackContext):\n",
    "    update.message.reply_text(\"\"\"Available Commands :-\n",
    "\n",
    "     /maths - To get maths worksheet URL \n",
    "     /english- To get english worksheet URL\n",
    "     /science- To get science worksheets URL\n",
    "     /sst-Toget sst worksheets URL\"\"\")\n",
    "  "
   ]
  },
  {
   "cell_type": "code",
   "execution_count": 6,
   "id": "fd07772d",
   "metadata": {},
   "outputs": [],
   "source": [
    "def maths_url(update: Update, context: CallbackContext):\n",
    "    update.message.reply_text(\"http://www.mathblaster.com/teachers/math-problems/math-sums\")"
   ]
  },
  {
   "cell_type": "code",
   "execution_count": 7,
   "id": "8b47b129",
   "metadata": {},
   "outputs": [],
   "source": [
    "def english_url(update: Update, context: CallbackContext):\n",
    "    update.message.reply_text(\"https://www.englishwsheets.com/\")"
   ]
  },
  {
   "cell_type": "code",
   "execution_count": 8,
   "id": "fac12877",
   "metadata": {},
   "outputs": [],
   "source": [
    "def science_url(update: Update, context: CallbackContext):\n",
    "    update.message.reply_text(\"https://www.k5learning.com/science-worksheets\")"
   ]
  },
  {
   "cell_type": "code",
   "execution_count": 9,
   "id": "45ed55f6",
   "metadata": {},
   "outputs": [],
   "source": [
    "def sst_url(update: Update, context: CallbackContext):\n",
    "    update.message.reply_text(\"https://www.studiestoday.com/worksheets/30/social-science.html\")"
   ]
  },
  {
   "cell_type": "code",
   "execution_count": null,
   "id": "11771452",
   "metadata": {},
   "outputs": [],
   "source": []
  },
  {
   "cell_type": "code",
   "execution_count": 10,
   "id": "9706e3c7",
   "metadata": {},
   "outputs": [],
   "source": [
    "def unknown_text(update: Update, context: CallbackContext):\n",
    "    update.message.reply_text(\n",
    "        \"Sorry I can't recognize you , you said '%s'\" % update.message.text)\n",
    "def unknown(update: Update, context: CallbackContext):\n",
    "    update.message.reply_text(\n",
    "        \"Sorry '%s' is not a valid command\" % update.message.text)\n",
    "  "
   ]
  },
  {
   "cell_type": "code",
   "execution_count": 11,
   "id": "42fbd9eb",
   "metadata": {},
   "outputs": [],
   "source": [
    "from logging import Filter\n",
    "updater.dispatcher.add_handler(CommandHandler('start',start))\n",
    "updater.dispatcher.add_handler(CommandHandler('help', help))\n",
    "updater.dispatcher.add_handler(CommandHandler('maths', maths_url))\n",
    "updater.dispatcher.add_handler(CommandHandler('english', english_url))\n",
    "updater.dispatcher.add_handler(CommandHandler('science', science_url))\n",
    "updater.dispatcher.add_handler(CommandHandler('sst', sst_url))\n",
    "updater.dispatcher.add_handler(MessageHandler(Filters.text, unknown_text))\n",
    "updater.dispatcher.add_handler(MessageHandler(Filters.command, unknown))"
   ]
  },
  {
   "cell_type": "code",
   "execution_count": 12,
   "id": "0db700d5",
   "metadata": {},
   "outputs": [],
   "source": [
    "updater.dispatcher.add_handler(MessageHandler(Filters.text, unknown_text))"
   ]
  },
  {
   "cell_type": "code",
   "execution_count": 13,
   "id": "016e7dfe",
   "metadata": {},
   "outputs": [
    {
     "data": {
      "text/plain": [
       "<queue.Queue at 0x19ce40b6190>"
      ]
     },
     "execution_count": 13,
     "metadata": {},
     "output_type": "execute_result"
    }
   ],
   "source": [
    "updater.start_polling()\n"
   ]
  },
  {
   "cell_type": "code",
   "execution_count": null,
   "id": "8cdb29a6",
   "metadata": {},
   "outputs": [],
   "source": []
  },
  {
   "cell_type": "code",
   "execution_count": null,
   "id": "f834e3b0",
   "metadata": {},
   "outputs": [],
   "source": []
  },
  {
   "cell_type": "code",
   "execution_count": null,
   "id": "9830d1db",
   "metadata": {},
   "outputs": [],
   "source": []
  }
 ],
 "metadata": {
  "kernelspec": {
   "display_name": "Python 3 (ipykernel)",
   "language": "python",
   "name": "python3"
  },
  "language_info": {
   "codemirror_mode": {
    "name": "ipython",
    "version": 3
   },
   "file_extension": ".py",
   "mimetype": "text/x-python",
   "name": "python",
   "nbconvert_exporter": "python",
   "pygments_lexer": "ipython3",
   "version": "3.9.12"
  }
 },
 "nbformat": 4,
 "nbformat_minor": 5
}
